{
 "cells": [
  {
   "cell_type": "code",
   "execution_count": 8,
   "id": "46d62c4e-bda8-48c0-8331-d3ed0af07652",
   "metadata": {},
   "outputs": [],
   "source": [
    "def add_length(str_):\n",
    "    x = str_.split(\" \")\n",
    "    for i in range(len(x)):\n",
    "        x[i] = x[i] + \" \" + str(len(x[i]))\n",
    "    print(x)"
   ]
  },
  {
   "cell_type": "code",
   "execution_count": 9,
   "id": "53501ae5-f5fd-4dcc-a763-5015fa1361f3",
   "metadata": {},
   "outputs": [
    {
     "name": "stdout",
     "output_type": "stream",
     "text": [
      "['apple 5', 'banana 6', 'cherry 6', 'orange 6']\n"
     ]
    }
   ],
   "source": [
    "txt = 'apple banana cherry orange'\n",
    "add_length(txt)"
   ]
  },
  {
   "cell_type": "code",
   "execution_count": 10,
   "id": "0271e869-6612-4c99-b6d4-4751e4d57ca3",
   "metadata": {},
   "outputs": [],
   "source": [
    "def bin_to_decimal(inp):\n",
    "    blist = list(inp)\n",
    "    blist.reverse()\n",
    "    c = 0\n",
    "    for i in range(len(blist)):\n",
    "        blist[i] = (2**i) * int(blist[i])\n",
    "        c += blist[i]\n",
    "    return c"
   ]
  },
  {
   "cell_type": "code",
   "execution_count": 11,
   "id": "717c5872-ad2b-4d02-9f39-247e3f982fbb",
   "metadata": {},
   "outputs": [
    {
     "data": {
      "text/plain": [
       "29"
      ]
     },
     "execution_count": 11,
     "metadata": {},
     "output_type": "execute_result"
    }
   ],
   "source": [
    "bin_to_decimal('11101')"
   ]
  },
  {
   "cell_type": "code",
   "execution_count": 12,
   "id": "7abdfe8f-cb4f-488a-81e5-0ff0d270cf38",
   "metadata": {},
   "outputs": [],
   "source": [
    "#prostsze\n",
    "def bin_to_decimals(inp):\n",
    "    return int(inp, 2)"
   ]
  },
  {
   "cell_type": "code",
   "execution_count": null,
   "id": "54811005-cb48-4628-8ae4-61c6ce2bd533",
   "metadata": {},
   "outputs": [],
   "source": []
  },
  {
   "cell_type": "code",
   "execution_count": 13,
   "id": "824f42c4-2e8e-48bb-beda-c486ae58b3a7",
   "metadata": {},
   "outputs": [
    {
     "data": {
      "text/plain": [
       "4"
      ]
     },
     "execution_count": 13,
     "metadata": {},
     "output_type": "execute_result"
    }
   ],
   "source": [
    "import random\n",
    "k = random.randint(4,6)\n",
    "k"
   ]
  },
  {
   "cell_type": "code",
   "execution_count": 176,
   "id": "55076595-cf7b-4ed3-828f-68ae7580d71f",
   "metadata": {},
   "outputs": [],
   "source": [
    "def mean(x: list)->float:\n",
    "    \"\"\"\"arithmetic mean (average) of list\"\"\"\n",
    "    if len(x) <= 1:\n",
    "        raise TypeError(\"mean need more than one element\")\n",
    "    else: \n",
    "        sum_of_elements =sum(x)\n",
    "        mean_value = sum_of_elements/len(x)\n",
    "        return mean_value"
   ]
  },
  {
   "cell_type": "code",
   "execution_count": 177,
   "id": "7cca107e-5498-4b76-9511-4665cd7814fc",
   "metadata": {},
   "outputs": [],
   "source": [
    "assert mean([1,2,3]) == 2"
   ]
  },
  {
   "cell_type": "code",
   "execution_count": 178,
   "id": "3bd4fc2f-0f93-4164-b11d-13fdfe918de6",
   "metadata": {
    "collapsed": true,
    "jupyter": {
     "outputs_hidden": true
    },
    "tags": []
   },
   "outputs": [
    {
     "ename": "AssertionError",
     "evalue": "False",
     "output_type": "error",
     "traceback": [
      "\u001b[0;31m---------------------------------------------------------------------------\u001b[0m",
      "\u001b[0;31mAssertionError\u001b[0m                            Traceback (most recent call last)",
      "\u001b[0;32m/var/folders/0x/h28nyhtx0xzdjlz02d7g9nmr0000gn/T/ipykernel_26171/678790817.py\u001b[0m in \u001b[0;36m<cell line: 1>\u001b[0;34m()\u001b[0m\n\u001b[0;32m----> 1\u001b[0;31m \u001b[0;32massert\u001b[0m \u001b[0mmean\u001b[0m\u001b[0;34m(\u001b[0m\u001b[0;34m[\u001b[0m\u001b[0;36m1\u001b[0m\u001b[0;34m,\u001b[0m\u001b[0;36m2\u001b[0m\u001b[0;34m,\u001b[0m\u001b[0;36m3\u001b[0m\u001b[0;34m]\u001b[0m\u001b[0;34m)\u001b[0m \u001b[0;34m==\u001b[0m \u001b[0;36m2.5\u001b[0m\u001b[0;34m,\u001b[0m \u001b[0;34m\"False\"\u001b[0m\u001b[0;34m\u001b[0m\u001b[0;34m\u001b[0m\u001b[0m\n\u001b[0m",
      "\u001b[0;31mAssertionError\u001b[0m: False"
     ]
    }
   ],
   "source": [
    "assert mean([1,2,3]) == 2.5, \"False\""
   ]
  },
  {
   "cell_type": "code",
   "execution_count": 179,
   "id": "edeb96d2-0442-400e-b9aa-d655f3d66d19",
   "metadata": {
    "collapsed": true,
    "jupyter": {
     "outputs_hidden": true
    },
    "tags": []
   },
   "outputs": [
    {
     "ename": "TypeError",
     "evalue": "mean need more than one element",
     "output_type": "error",
     "traceback": [
      "\u001b[0;31m---------------------------------------------------------------------------\u001b[0m",
      "\u001b[0;31mTypeError\u001b[0m                                 Traceback (most recent call last)",
      "\u001b[0;32m/var/folders/0x/h28nyhtx0xzdjlz02d7g9nmr0000gn/T/ipykernel_26171/883926461.py\u001b[0m in \u001b[0;36m<cell line: 1>\u001b[0;34m()\u001b[0m\n\u001b[0;32m----> 1\u001b[0;31m \u001b[0;32massert\u001b[0m \u001b[0mmean\u001b[0m\u001b[0;34m(\u001b[0m\u001b[0;34m[\u001b[0m\u001b[0;36m0\u001b[0m\u001b[0;34m]\u001b[0m\u001b[0;34m)\u001b[0m\u001b[0;34m\u001b[0m\u001b[0;34m\u001b[0m\u001b[0m\n\u001b[0m",
      "\u001b[0;32m/var/folders/0x/h28nyhtx0xzdjlz02d7g9nmr0000gn/T/ipykernel_26171/3081797158.py\u001b[0m in \u001b[0;36mmean\u001b[0;34m(x)\u001b[0m\n\u001b[1;32m      2\u001b[0m     \u001b[0;34m\"\"\"\"arithmetic mean (average) of list\"\"\"\u001b[0m\u001b[0;34m\u001b[0m\u001b[0;34m\u001b[0m\u001b[0m\n\u001b[1;32m      3\u001b[0m     \u001b[0;32mif\u001b[0m \u001b[0mlen\u001b[0m\u001b[0;34m(\u001b[0m\u001b[0mx\u001b[0m\u001b[0;34m)\u001b[0m \u001b[0;34m<=\u001b[0m \u001b[0;36m1\u001b[0m\u001b[0;34m:\u001b[0m\u001b[0;34m\u001b[0m\u001b[0;34m\u001b[0m\u001b[0m\n\u001b[0;32m----> 4\u001b[0;31m         \u001b[0;32mraise\u001b[0m \u001b[0mTypeError\u001b[0m\u001b[0;34m(\u001b[0m\u001b[0;34m\"mean need more than one element\"\u001b[0m\u001b[0;34m)\u001b[0m\u001b[0;34m\u001b[0m\u001b[0;34m\u001b[0m\u001b[0m\n\u001b[0m\u001b[1;32m      5\u001b[0m     \u001b[0;32melse\u001b[0m\u001b[0;34m:\u001b[0m\u001b[0;34m\u001b[0m\u001b[0;34m\u001b[0m\u001b[0m\n\u001b[1;32m      6\u001b[0m         \u001b[0msum_of_elements\u001b[0m \u001b[0;34m=\u001b[0m\u001b[0msum\u001b[0m\u001b[0;34m(\u001b[0m\u001b[0mx\u001b[0m\u001b[0;34m)\u001b[0m\u001b[0;34m\u001b[0m\u001b[0;34m\u001b[0m\u001b[0m\n",
      "\u001b[0;31mTypeError\u001b[0m: mean need more than one element"
     ]
    }
   ],
   "source": [
    "assert mean([0])"
   ]
  },
  {
   "cell_type": "code",
   "execution_count": 159,
   "id": "46fbd964-35ea-4da4-ab57-8c938a844a20",
   "metadata": {
    "collapsed": true,
    "jupyter": {
     "outputs_hidden": true
    },
    "tags": []
   },
   "outputs": [
    {
     "ename": "TypeError",
     "evalue": "mean() missing 1 required positional argument: 'x'",
     "output_type": "error",
     "traceback": [
      "\u001b[0;31m---------------------------------------------------------------------------\u001b[0m",
      "\u001b[0;31mTypeError\u001b[0m                                 Traceback (most recent call last)",
      "\u001b[0;32m/var/folders/0x/h28nyhtx0xzdjlz02d7g9nmr0000gn/T/ipykernel_26171/528629024.py\u001b[0m in \u001b[0;36m<cell line: 1>\u001b[0;34m()\u001b[0m\n\u001b[0;32m----> 1\u001b[0;31m \u001b[0;32massert\u001b[0m \u001b[0mmean\u001b[0m\u001b[0;34m(\u001b[0m\u001b[0;34m)\u001b[0m\u001b[0;34m\u001b[0m\u001b[0;34m\u001b[0m\u001b[0m\n\u001b[0m",
      "\u001b[0;31mTypeError\u001b[0m: mean() missing 1 required positional argument: 'x'"
     ]
    }
   ],
   "source": [
    "assert mean()"
   ]
  },
  {
   "cell_type": "code",
   "execution_count": 148,
   "id": "824e1a4f-ae1c-4937-9050-e03b60d160d5",
   "metadata": {},
   "outputs": [],
   "source": [
    "def median(x:list)->float:\n",
    "    \"\"\"classic meadian of numeric data\"\"\"\n",
    "    x = sorted(x)\n",
    "    n = len(x)\n",
    "    if n == 0:\n",
    "        return TypeError(\"mean not exist\")\n",
    "    if n%2 == 1:\n",
    "        return x[n//2]\n",
    "    if n%2 != 1:\n",
    "        return (x[n//2] + x[n//2 - 1])/2"
   ]
  },
  {
   "cell_type": "code",
   "execution_count": 160,
   "id": "cb6488cb-382f-469b-968a-83928dedcd4f",
   "metadata": {},
   "outputs": [],
   "source": [
    "assert median([1,2,3,4]) == 2.5"
   ]
  },
  {
   "cell_type": "code",
   "execution_count": 197,
   "id": "53ff65a1-aef8-440a-843d-392ee1b9e9cf",
   "metadata": {
    "collapsed": true,
    "jupyter": {
     "outputs_hidden": true
    },
    "tags": []
   },
   "outputs": [
    {
     "ename": "AssertionError",
     "evalue": "must be 2.5",
     "output_type": "error",
     "traceback": [
      "\u001b[0;31m---------------------------------------------------------------------------\u001b[0m",
      "\u001b[0;31mAssertionError\u001b[0m                            Traceback (most recent call last)",
      "\u001b[0;32m/var/folders/0x/h28nyhtx0xzdjlz02d7g9nmr0000gn/T/ipykernel_26171/2395906869.py\u001b[0m in \u001b[0;36m<cell line: 1>\u001b[0;34m()\u001b[0m\n\u001b[0;32m----> 1\u001b[0;31m \u001b[0;32massert\u001b[0m \u001b[0mmedian\u001b[0m\u001b[0;34m(\u001b[0m\u001b[0;34m[\u001b[0m\u001b[0;36m1\u001b[0m\u001b[0;34m,\u001b[0m\u001b[0;36m2\u001b[0m\u001b[0;34m,\u001b[0m\u001b[0;36m3\u001b[0m\u001b[0;34m,\u001b[0m\u001b[0;36m4\u001b[0m\u001b[0;34m]\u001b[0m\u001b[0;34m)\u001b[0m \u001b[0;34m==\u001b[0m \u001b[0;36m2\u001b[0m\u001b[0;34m,\u001b[0m \u001b[0;34m\"must be 2.5\"\u001b[0m\u001b[0;34m\u001b[0m\u001b[0;34m\u001b[0m\u001b[0m\n\u001b[0m",
      "\u001b[0;31mAssertionError\u001b[0m: must be 2.5"
     ]
    }
   ],
   "source": [
    "assert median([1,2,3,4]) == 2, \"must be 2.5\""
   ]
  },
  {
   "cell_type": "code",
   "execution_count": 198,
   "id": "79cdebac-3787-4c27-9062-472529f5b542",
   "metadata": {
    "collapsed": true,
    "jupyter": {
     "outputs_hidden": true
    },
    "tags": []
   },
   "outputs": [
    {
     "ename": "AssertionError",
     "evalue": "must be 2.5",
     "output_type": "error",
     "traceback": [
      "\u001b[0;31m---------------------------------------------------------------------------\u001b[0m",
      "\u001b[0;31mAssertionError\u001b[0m                            Traceback (most recent call last)",
      "\u001b[0;32m/var/folders/0x/h28nyhtx0xzdjlz02d7g9nmr0000gn/T/ipykernel_26171/4080942855.py\u001b[0m in \u001b[0;36m<cell line: 1>\u001b[0;34m()\u001b[0m\n\u001b[0;32m----> 1\u001b[0;31m \u001b[0;32massert\u001b[0m \u001b[0mmedian\u001b[0m\u001b[0;34m(\u001b[0m\u001b[0;34m[\u001b[0m\u001b[0;36m1\u001b[0m\u001b[0;34m,\u001b[0m\u001b[0;36m2\u001b[0m\u001b[0;34m,\u001b[0m\u001b[0;36m3\u001b[0m\u001b[0;34m,\u001b[0m\u001b[0;36m4\u001b[0m\u001b[0;34m]\u001b[0m\u001b[0;34m)\u001b[0m \u001b[0;34m==\u001b[0m \u001b[0;36m3\u001b[0m\u001b[0;34m,\u001b[0m \u001b[0;34m\"must be 2.5\"\u001b[0m\u001b[0;34m\u001b[0m\u001b[0;34m\u001b[0m\u001b[0m\n\u001b[0m",
      "\u001b[0;31mAssertionError\u001b[0m: must be 2.5"
     ]
    }
   ],
   "source": [
    "assert median([1,2,3,4]) == 3, \"must be 2.5\""
   ]
  },
  {
   "cell_type": "code",
   "execution_count": 194,
   "id": "ed776460-b688-4e6d-8967-66f73d61a7b8",
   "metadata": {},
   "outputs": [],
   "source": [
    "assert median([1,2,3]) == 2"
   ]
  },
  {
   "cell_type": "code",
   "execution_count": 196,
   "id": "9e025bd8-f5f6-4148-b067-31b5bf009ac3",
   "metadata": {
    "collapsed": true,
    "jupyter": {
     "outputs_hidden": true
    },
    "tags": []
   },
   "outputs": [
    {
     "ename": "AssertionError",
     "evalue": "must be 2",
     "output_type": "error",
     "traceback": [
      "\u001b[0;31m---------------------------------------------------------------------------\u001b[0m",
      "\u001b[0;31mAssertionError\u001b[0m                            Traceback (most recent call last)",
      "\u001b[0;32m/var/folders/0x/h28nyhtx0xzdjlz02d7g9nmr0000gn/T/ipykernel_26171/2209003618.py\u001b[0m in \u001b[0;36m<cell line: 1>\u001b[0;34m()\u001b[0m\n\u001b[0;32m----> 1\u001b[0;31m \u001b[0;32massert\u001b[0m \u001b[0mmedian\u001b[0m\u001b[0;34m(\u001b[0m\u001b[0;34m[\u001b[0m\u001b[0;36m1\u001b[0m\u001b[0;34m,\u001b[0m\u001b[0;36m2\u001b[0m\u001b[0;34m,\u001b[0m\u001b[0;36m3\u001b[0m\u001b[0;34m]\u001b[0m\u001b[0;34m)\u001b[0m \u001b[0;34m==\u001b[0m \u001b[0;36m2.5\u001b[0m\u001b[0;34m,\u001b[0m \u001b[0;34m\"must be 2\"\u001b[0m\u001b[0;34m\u001b[0m\u001b[0;34m\u001b[0m\u001b[0m\n\u001b[0m",
      "\u001b[0;31mAssertionError\u001b[0m: must be 2"
     ]
    }
   ],
   "source": [
    "assert median([1,2,3]) == 2.5, \"must be 2\""
   ]
  },
  {
   "cell_type": "code",
   "execution_count": 167,
   "id": "c9c54dc5-f170-40cd-98e4-5ecf0b94822e",
   "metadata": {},
   "outputs": [],
   "source": [
    "assert median([]) "
   ]
  },
  {
   "cell_type": "code",
   "execution_count": 184,
   "id": "e3c35af5-2a1f-46ac-b7ca-7b2fbb91f41e",
   "metadata": {},
   "outputs": [],
   "source": [
    "def low_median(x:list)->float:\n",
    "    \"\"\"median of numeric data:\n",
    "    odd number: works like classic median function\n",
    "    even number: return smaller middle value\"\"\"\n",
    "    x = sorted(x)\n",
    "    n = len(x)\n",
    "    if n == 0:\n",
    "        return TypeError(\"mean not exist\")\n",
    "    if n%2 == 1:\n",
    "        return x[n//2]\n",
    "    if n%2 != 1:\n",
    "        return x[n//2 - 1]"
   ]
  },
  {
   "cell_type": "code",
   "execution_count": 187,
   "id": "1140cfaa-069b-403b-9600-03177f372d38",
   "metadata": {
    "collapsed": true,
    "jupyter": {
     "outputs_hidden": true
    },
    "tags": []
   },
   "outputs": [
    {
     "ename": "AssertionError",
     "evalue": "must be 2",
     "output_type": "error",
     "traceback": [
      "\u001b[0;31m---------------------------------------------------------------------------\u001b[0m",
      "\u001b[0;31mAssertionError\u001b[0m                            Traceback (most recent call last)",
      "\u001b[0;32m/var/folders/0x/h28nyhtx0xzdjlz02d7g9nmr0000gn/T/ipykernel_26171/2159044337.py\u001b[0m in \u001b[0;36m<cell line: 1>\u001b[0;34m()\u001b[0m\n\u001b[0;32m----> 1\u001b[0;31m \u001b[0;32massert\u001b[0m \u001b[0mlow_median\u001b[0m\u001b[0;34m(\u001b[0m\u001b[0;34m[\u001b[0m\u001b[0;36m1\u001b[0m\u001b[0;34m,\u001b[0m\u001b[0;36m2\u001b[0m\u001b[0;34m,\u001b[0m\u001b[0;36m3\u001b[0m\u001b[0;34m,\u001b[0m\u001b[0;36m4\u001b[0m\u001b[0;34m]\u001b[0m\u001b[0;34m)\u001b[0m \u001b[0;34m==\u001b[0m \u001b[0;36m3\u001b[0m\u001b[0;34m,\u001b[0m \u001b[0;34m\"must be 2\"\u001b[0m\u001b[0;34m\u001b[0m\u001b[0;34m\u001b[0m\u001b[0m\n\u001b[0m",
      "\u001b[0;31mAssertionError\u001b[0m: must be 2"
     ]
    }
   ],
   "source": [
    "assert low_median([1,2,3,4]) == 3, \"must be 2\""
   ]
  },
  {
   "cell_type": "code",
   "execution_count": 191,
   "id": "059bb128-10e0-4ee3-9a8b-dc6f5692efd2",
   "metadata": {},
   "outputs": [],
   "source": [
    "assert low_median([1,2,3,4]) == 2.0"
   ]
  },
  {
   "cell_type": "code",
   "execution_count": 182,
   "id": "b75f12a5-83ed-409d-a92c-61949074d535",
   "metadata": {},
   "outputs": [],
   "source": [
    "def high_median(x:list)->float:\n",
    "    \"\"\"median of numeric data:\n",
    "    odd number: works like classic median function\n",
    "    even number: return bigger middle value\"\"\"\n",
    "    x = sorted(x)\n",
    "    n = len(x)\n",
    "    if n == 0:\n",
    "        return TypeError(\"mean not exist\")\n",
    "    else:\n",
    "        return x[n//2]"
   ]
  },
  {
   "cell_type": "code",
   "execution_count": 192,
   "id": "e8638bf2-5899-4c18-97be-9a4d8fbbaa93",
   "metadata": {
    "collapsed": true,
    "jupyter": {
     "outputs_hidden": true
    },
    "tags": []
   },
   "outputs": [
    {
     "ename": "AssertionError",
     "evalue": "must be 3",
     "output_type": "error",
     "traceback": [
      "\u001b[0;31m---------------------------------------------------------------------------\u001b[0m",
      "\u001b[0;31mAssertionError\u001b[0m                            Traceback (most recent call last)",
      "\u001b[0;32m/var/folders/0x/h28nyhtx0xzdjlz02d7g9nmr0000gn/T/ipykernel_26171/2984701833.py\u001b[0m in \u001b[0;36m<cell line: 1>\u001b[0;34m()\u001b[0m\n\u001b[0;32m----> 1\u001b[0;31m \u001b[0;32massert\u001b[0m \u001b[0mhigh_median\u001b[0m\u001b[0;34m(\u001b[0m\u001b[0;34m[\u001b[0m\u001b[0;36m1\u001b[0m\u001b[0;34m,\u001b[0m\u001b[0;36m2\u001b[0m\u001b[0;34m,\u001b[0m\u001b[0;36m3\u001b[0m\u001b[0;34m,\u001b[0m\u001b[0;36m4\u001b[0m\u001b[0;34m]\u001b[0m\u001b[0;34m)\u001b[0m \u001b[0;34m==\u001b[0m \u001b[0;36m2\u001b[0m\u001b[0;34m,\u001b[0m \u001b[0;34m\"must be 3\"\u001b[0m\u001b[0;34m\u001b[0m\u001b[0;34m\u001b[0m\u001b[0m\n\u001b[0m",
      "\u001b[0;31mAssertionError\u001b[0m: must be 3"
     ]
    }
   ],
   "source": [
    "assert high_median([1,2,3,4]) == 2, \"must be 3\""
   ]
  },
  {
   "cell_type": "code",
   "execution_count": 193,
   "id": "a52a931d-02d6-41c3-bb20-cf617a9a6bfb",
   "metadata": {},
   "outputs": [],
   "source": [
    "assert high_median([1,2,3,4]) == 3"
   ]
  },
  {
   "cell_type": "code",
   "execution_count": 203,
   "id": "e746e98a-e6bb-4d9f-a9eb-581a11b42415",
   "metadata": {},
   "outputs": [],
   "source": [
    "def minimum(x:list)->float:\n",
    "    \"\"\"returns the smallest number in list\"\"\"\n",
    "    x = sorted(x)\n",
    "    return x[0]"
   ]
  },
  {
   "cell_type": "code",
   "execution_count": 205,
   "id": "bc1965d1-25e7-4081-92c5-6ffb0a784007",
   "metadata": {
    "collapsed": true,
    "jupyter": {
     "outputs_hidden": true
    },
    "tags": []
   },
   "outputs": [
    {
     "ename": "AssertionError",
     "evalue": "must be 0",
     "output_type": "error",
     "traceback": [
      "\u001b[0;31m---------------------------------------------------------------------------\u001b[0m",
      "\u001b[0;31mAssertionError\u001b[0m                            Traceback (most recent call last)",
      "\u001b[0;32m/var/folders/0x/h28nyhtx0xzdjlz02d7g9nmr0000gn/T/ipykernel_26171/3967608715.py\u001b[0m in \u001b[0;36m<cell line: 1>\u001b[0;34m()\u001b[0m\n\u001b[0;32m----> 1\u001b[0;31m \u001b[0;32massert\u001b[0m \u001b[0mminimum\u001b[0m\u001b[0;34m(\u001b[0m\u001b[0;34m[\u001b[0m\u001b[0;36m0\u001b[0m\u001b[0;34m,\u001b[0m\u001b[0;36m1\u001b[0m\u001b[0;34m,\u001b[0m\u001b[0;36m2\u001b[0m\u001b[0;34m,\u001b[0m\u001b[0;36m3\u001b[0m\u001b[0;34m]\u001b[0m\u001b[0;34m)\u001b[0m \u001b[0;34m==\u001b[0m \u001b[0;36m1\u001b[0m\u001b[0;34m,\u001b[0m \u001b[0;34m'must be 0'\u001b[0m\u001b[0;34m\u001b[0m\u001b[0;34m\u001b[0m\u001b[0m\n\u001b[0m",
      "\u001b[0;31mAssertionError\u001b[0m: must be 0"
     ]
    }
   ],
   "source": [
    "assert minimum([0,1,2,3]) == 1, 'must be 0'"
   ]
  },
  {
   "cell_type": "code",
   "execution_count": 206,
   "id": "3f1ec890-4206-4e33-afb3-0d85ae915884",
   "metadata": {},
   "outputs": [],
   "source": [
    "assert minimum([0,1,2,3]) == 0"
   ]
  },
  {
   "cell_type": "code",
   "execution_count": 209,
   "id": "059cd46b-3d05-4ac7-86e2-cb18cbdb0c4f",
   "metadata": {
    "tags": []
   },
   "outputs": [],
   "source": [
    "def maximum(x:list)->float:\n",
    "    \"\"\"returns the largest number in list\"\"\"\n",
    "    x = sorted(x)\n",
    "    n = len(x)\n",
    "    return x[n-1]"
   ]
  },
  {
   "cell_type": "code",
   "execution_count": 210,
   "id": "e683a350-b539-4eb9-a673-e26c925a2b2b",
   "metadata": {
    "collapsed": true,
    "jupyter": {
     "outputs_hidden": true
    },
    "tags": []
   },
   "outputs": [
    {
     "ename": "AssertionError",
     "evalue": "must be 3",
     "output_type": "error",
     "traceback": [
      "\u001b[0;31m---------------------------------------------------------------------------\u001b[0m",
      "\u001b[0;31mAssertionError\u001b[0m                            Traceback (most recent call last)",
      "\u001b[0;32m/var/folders/0x/h28nyhtx0xzdjlz02d7g9nmr0000gn/T/ipykernel_26171/3582304419.py\u001b[0m in \u001b[0;36m<cell line: 1>\u001b[0;34m()\u001b[0m\n\u001b[0;32m----> 1\u001b[0;31m \u001b[0;32massert\u001b[0m \u001b[0mmaximum\u001b[0m\u001b[0;34m(\u001b[0m\u001b[0;34m[\u001b[0m\u001b[0;36m0\u001b[0m\u001b[0;34m,\u001b[0m\u001b[0;36m1\u001b[0m\u001b[0;34m,\u001b[0m\u001b[0;36m2\u001b[0m\u001b[0;34m,\u001b[0m\u001b[0;36m3\u001b[0m\u001b[0;34m]\u001b[0m\u001b[0;34m)\u001b[0m \u001b[0;34m==\u001b[0m \u001b[0;36m1\u001b[0m\u001b[0;34m,\u001b[0m \u001b[0;34m'must be 3'\u001b[0m\u001b[0;34m\u001b[0m\u001b[0;34m\u001b[0m\u001b[0m\n\u001b[0m",
      "\u001b[0;31mAssertionError\u001b[0m: must be 3"
     ]
    }
   ],
   "source": [
    "assert maximum([0,1,2,3]) == 1, 'must be 3'"
   ]
  },
  {
   "cell_type": "code",
   "execution_count": 211,
   "id": "cedcf411-8f44-4a29-be61-945a55e5ed8b",
   "metadata": {},
   "outputs": [],
   "source": [
    "assert maximum([0,1,2,3]) == 3"
   ]
  },
  {
   "cell_type": "code",
   "execution_count": 295,
   "id": "dcbc1d07-4a31-4e89-a4e9-156d91c0bc9f",
   "metadata": {},
   "outputs": [],
   "source": [
    "def standard_deviation(x:list)->float:\n",
    "    \"\"\"returns standard deviation of numeric data\"\"\"\n",
    "    mean_x = mean(x)\n",
    "    n = len(x)\n",
    "    s=0\n",
    "    for i in x:\n",
    "        s += (x[i-1] - mean_x)**2\n",
    "    sd = (s/n)**0.5\n",
    "    return sd"
   ]
  },
  {
   "cell_type": "code",
   "execution_count": 296,
   "id": "dcf14c65-c619-441a-929e-b513b750217c",
   "metadata": {},
   "outputs": [],
   "source": [
    "assert standard_deviation([2,1]) == 0.5"
   ]
  },
  {
   "cell_type": "code",
   "execution_count": 297,
   "id": "787eb96f-e09f-4006-b1d5-04f1716fbf0a",
   "metadata": {
    "collapsed": true,
    "jupyter": {
     "outputs_hidden": true
    },
    "tags": []
   },
   "outputs": [
    {
     "ename": "AssertionError",
     "evalue": "bad solution, it's 0.5",
     "output_type": "error",
     "traceback": [
      "\u001b[0;31m---------------------------------------------------------------------------\u001b[0m",
      "\u001b[0;31mAssertionError\u001b[0m                            Traceback (most recent call last)",
      "\u001b[0;32m/var/folders/0x/h28nyhtx0xzdjlz02d7g9nmr0000gn/T/ipykernel_26171/3723490753.py\u001b[0m in \u001b[0;36m<cell line: 1>\u001b[0;34m()\u001b[0m\n\u001b[0;32m----> 1\u001b[0;31m \u001b[0;32massert\u001b[0m \u001b[0mstandard_deviation\u001b[0m\u001b[0;34m(\u001b[0m\u001b[0;34m[\u001b[0m\u001b[0;36m2\u001b[0m\u001b[0;34m,\u001b[0m\u001b[0;36m1\u001b[0m\u001b[0;34m]\u001b[0m\u001b[0;34m)\u001b[0m \u001b[0;34m==\u001b[0m \u001b[0;36m1\u001b[0m\u001b[0;34m,\u001b[0m \u001b[0;34m'bad solution, it\\'s 0.5'\u001b[0m\u001b[0;34m\u001b[0m\u001b[0;34m\u001b[0m\u001b[0m\n\u001b[0m",
      "\u001b[0;31mAssertionError\u001b[0m: bad solution, it's 0.5"
     ]
    }
   ],
   "source": [
    "assert standard_deviation([2,1]) == 1, 'bad solution, it\\'s 0.5'"
   ]
  },
  {
   "cell_type": "code",
   "execution_count": 293,
   "id": "08934a64-1c31-4cc2-8bf3-4b98849b27fc",
   "metadata": {},
   "outputs": [],
   "source": [
    "def variation(x:list)-> float:\n",
    "    \"\"\"returns square of standard deviation of numeric data\"\"\"\n",
    "    under_sqrt = standard_deviation(x)\n",
    "    return under_sqrt**2"
   ]
  },
  {
   "cell_type": "code",
   "execution_count": 300,
   "id": "441d4168-d12c-4e00-b8dd-2a403e7d1d8d",
   "metadata": {
    "collapsed": true,
    "jupyter": {
     "outputs_hidden": true
    },
    "tags": []
   },
   "outputs": [
    {
     "ename": "AssertionError",
     "evalue": "bad solution, it's 0.25",
     "output_type": "error",
     "traceback": [
      "\u001b[0;31m---------------------------------------------------------------------------\u001b[0m",
      "\u001b[0;31mAssertionError\u001b[0m                            Traceback (most recent call last)",
      "\u001b[0;32m/var/folders/0x/h28nyhtx0xzdjlz02d7g9nmr0000gn/T/ipykernel_26171/2066542421.py\u001b[0m in \u001b[0;36m<cell line: 1>\u001b[0;34m()\u001b[0m\n\u001b[0;32m----> 1\u001b[0;31m \u001b[0;32massert\u001b[0m \u001b[0mvariation\u001b[0m\u001b[0;34m(\u001b[0m\u001b[0;34m[\u001b[0m\u001b[0;36m2\u001b[0m\u001b[0;34m,\u001b[0m\u001b[0;36m1\u001b[0m\u001b[0;34m]\u001b[0m\u001b[0;34m)\u001b[0m \u001b[0;34m==\u001b[0m \u001b[0;36m0.5\u001b[0m\u001b[0;34m,\u001b[0m \u001b[0;34m'bad solution, it\\'s 0.25'\u001b[0m\u001b[0;34m\u001b[0m\u001b[0;34m\u001b[0m\u001b[0m\n\u001b[0m",
      "\u001b[0;31mAssertionError\u001b[0m: bad solution, it's 0.25"
     ]
    }
   ],
   "source": [
    "assert variation([2,1]) == 0.5, 'bad solution, it\\'s 0.25'"
   ]
  },
  {
   "cell_type": "code",
   "execution_count": 301,
   "id": "fd5b7364-31ef-4952-87c3-2d2560b6c5c5",
   "metadata": {},
   "outputs": [],
   "source": [
    "assert variation([2,1]) == 0.25"
   ]
  },
  {
   "cell_type": "code",
   "execution_count": null,
   "id": "312dfcd0-f970-44a7-8e88-98fc54db1099",
   "metadata": {},
   "outputs": [],
   "source": []
  }
 ],
 "metadata": {
  "kernelspec": {
   "display_name": "Python 3 (ipykernel)",
   "language": "python",
   "name": "python3"
  },
  "language_info": {
   "codemirror_mode": {
    "name": "ipython",
    "version": 3
   },
   "file_extension": ".py",
   "mimetype": "text/x-python",
   "name": "python",
   "nbconvert_exporter": "python",
   "pygments_lexer": "ipython3",
   "version": "3.8.13"
  }
 },
 "nbformat": 4,
 "nbformat_minor": 5
}
